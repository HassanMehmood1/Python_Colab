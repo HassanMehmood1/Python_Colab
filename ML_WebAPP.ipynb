{
  "nbformat": 4,
  "nbformat_minor": 0,
  "metadata": {
    "colab": {
      "name": "ML_WebAPP.ipynb",
      "provenance": [],
      "collapsed_sections": [],
      "toc_visible": true,
      "authorship_tag": "ABX9TyNFDVn0i2U/G3lvwb9rLPnR",
      "include_colab_link": true
    },
    "kernelspec": {
      "name": "python3",
      "display_name": "Python 3"
    }
  },
  "cells": [
    {
      "cell_type": "markdown",
      "metadata": {
        "id": "view-in-github",
        "colab_type": "text"
      },
      "source": [
        "<a href=\"https://colab.research.google.com/github/HassanMehmood1/Python_Colab/blob/main/ML_WebAPP.ipynb\" target=\"_parent\"><img src=\"https://colab.research.google.com/assets/colab-badge.svg\" alt=\"Open In Colab\"/></a>"
      ]
    },
    {
      "cell_type": "code",
      "metadata": {
        "id": "s_5iFRzSRDjp"
      },
      "source": [
        "# Description: This Programe Detects if someone has diabetes using Machine learning and Python\n"
      ],
      "execution_count": 7,
      "outputs": []
    },
    {
      "cell_type": "code",
      "metadata": {
        "id": "i_Od6wZQIypM"
      },
      "source": [
        "pip install streamlit"
      ],
      "execution_count": null,
      "outputs": []
    },
    {
      "cell_type": "code",
      "metadata": {
        "id": "zcisFRipRJlN",
        "outputId": "725e939f-91b1-46db-b57d-560bc3b77b1c",
        "colab": {
          "base_uri": "https://localhost:8080/"
        }
      },
      "source": [
        "# import the Libraries\n",
        "import pandas as pd\n",
        "from sklearn.metrics import accuracy_score\n",
        "from sklearn.model_selection import train_test_split\n",
        "from sklearn.ensemble import RandomForestClassifier\n",
        "from PIL import Image\n",
        "import streamlit as st"
      ],
      "execution_count": 2,
      "outputs": [
        {
          "output_type": "stream",
          "text": [
            "/usr/local/lib/python3.6/dist-packages/requests/__init__.py:91: RequestsDependencyWarning: urllib3 (1.26.2) or chardet (3.0.4) doesn't match a supported version!\n",
            "  RequestsDependencyWarning)\n"
          ],
          "name": "stderr"
        }
      ]
    },
    {
      "cell_type": "code",
      "metadata": {
        "id": "WnkM_loXRJt9"
      },
      "source": [
        "# Create a Titlt and Sub-title\n",
        "st.write(\"\"\"\n",
        "# Diabetes Detection\n",
        "Detect if some one has diabetes using machine learning and python !\n",
        "\"\"\")"
      ],
      "execution_count": 3,
      "outputs": []
    },
    {
      "cell_type": "code",
      "metadata": {
        "id": "4ndEYKqWRJzY",
        "outputId": "c0ce7323-f527-4e99-a64d-d9c097e3678d",
        "colab": {
          "base_uri": "https://localhost:8080/"
        }
      },
      "source": [
        "# Open and display an image\n",
        "image = Image.open('/content/img.png')\n",
        "st.image(image, caption='ML', use_column_width=True)"
      ],
      "execution_count": 6,
      "outputs": [
        {
          "output_type": "execute_result",
          "data": {
            "text/plain": [
              "<streamlit.delta_generator.DeltaGenerator at 0x7f0bd108eef0>"
            ]
          },
          "metadata": {
            "tags": []
          },
          "execution_count": 6
        }
      ]
    },
    {
      "cell_type": "code",
      "metadata": {
        "id": "vn1DyaGgVGd2"
      },
      "source": [
        "# Get the Data\n",
        "df = pd.read_csv('/content/diabetes.csv')"
      ],
      "execution_count": 4,
      "outputs": []
    },
    {
      "cell_type": "code",
      "metadata": {
        "id": "gQ0rjqmwIszx",
        "outputId": "d01778d0-4f36-4597-978b-963e17ff25d3",
        "colab": {
          "base_uri": "https://localhost:8080/",
          "height": 204
        }
      },
      "source": [
        "df.head()"
      ],
      "execution_count": 5,
      "outputs": [
        {
          "output_type": "execute_result",
          "data": {
            "text/html": [
              "<div>\n",
              "<style scoped>\n",
              "    .dataframe tbody tr th:only-of-type {\n",
              "        vertical-align: middle;\n",
              "    }\n",
              "\n",
              "    .dataframe tbody tr th {\n",
              "        vertical-align: top;\n",
              "    }\n",
              "\n",
              "    .dataframe thead th {\n",
              "        text-align: right;\n",
              "    }\n",
              "</style>\n",
              "<table border=\"1\" class=\"dataframe\">\n",
              "  <thead>\n",
              "    <tr style=\"text-align: right;\">\n",
              "      <th></th>\n",
              "      <th>Pregnancies</th>\n",
              "      <th>Glucose</th>\n",
              "      <th>BloodPressure</th>\n",
              "      <th>SkinThickness</th>\n",
              "      <th>Insulin</th>\n",
              "      <th>BMI</th>\n",
              "      <th>DiabetesPedigreeFunction</th>\n",
              "      <th>Age</th>\n",
              "      <th>Outcome</th>\n",
              "    </tr>\n",
              "  </thead>\n",
              "  <tbody>\n",
              "    <tr>\n",
              "      <th>0</th>\n",
              "      <td>6</td>\n",
              "      <td>148</td>\n",
              "      <td>72</td>\n",
              "      <td>35</td>\n",
              "      <td>0</td>\n",
              "      <td>33.6</td>\n",
              "      <td>0.627</td>\n",
              "      <td>50</td>\n",
              "      <td>1</td>\n",
              "    </tr>\n",
              "    <tr>\n",
              "      <th>1</th>\n",
              "      <td>1</td>\n",
              "      <td>85</td>\n",
              "      <td>66</td>\n",
              "      <td>29</td>\n",
              "      <td>0</td>\n",
              "      <td>26.6</td>\n",
              "      <td>0.351</td>\n",
              "      <td>31</td>\n",
              "      <td>0</td>\n",
              "    </tr>\n",
              "    <tr>\n",
              "      <th>2</th>\n",
              "      <td>8</td>\n",
              "      <td>183</td>\n",
              "      <td>64</td>\n",
              "      <td>0</td>\n",
              "      <td>0</td>\n",
              "      <td>23.3</td>\n",
              "      <td>0.672</td>\n",
              "      <td>32</td>\n",
              "      <td>1</td>\n",
              "    </tr>\n",
              "    <tr>\n",
              "      <th>3</th>\n",
              "      <td>1</td>\n",
              "      <td>89</td>\n",
              "      <td>66</td>\n",
              "      <td>23</td>\n",
              "      <td>94</td>\n",
              "      <td>28.1</td>\n",
              "      <td>0.167</td>\n",
              "      <td>21</td>\n",
              "      <td>0</td>\n",
              "    </tr>\n",
              "    <tr>\n",
              "      <th>4</th>\n",
              "      <td>0</td>\n",
              "      <td>137</td>\n",
              "      <td>40</td>\n",
              "      <td>35</td>\n",
              "      <td>168</td>\n",
              "      <td>43.1</td>\n",
              "      <td>2.288</td>\n",
              "      <td>33</td>\n",
              "      <td>1</td>\n",
              "    </tr>\n",
              "  </tbody>\n",
              "</table>\n",
              "</div>"
            ],
            "text/plain": [
              "   Pregnancies  Glucose  BloodPressure  ...  DiabetesPedigreeFunction  Age  Outcome\n",
              "0            6      148             72  ...                     0.627   50        1\n",
              "1            1       85             66  ...                     0.351   31        0\n",
              "2            8      183             64  ...                     0.672   32        1\n",
              "3            1       89             66  ...                     0.167   21        0\n",
              "4            0      137             40  ...                     2.288   33        1\n",
              "\n",
              "[5 rows x 9 columns]"
            ]
          },
          "metadata": {
            "tags": []
          },
          "execution_count": 5
        }
      ]
    },
    {
      "cell_type": "code",
      "metadata": {
        "id": "5jPKOMycJsQT"
      },
      "source": [
        "# Set a SubHeader\n",
        "st.subheader('Data Information:')\n",
        "\n",
        "# Show the Data as a table\n",
        "st.dataframe(df)\n",
        "\n",
        "#show statistics on the data\n",
        "st.write(df.describe())\n",
        "\n",
        "# Show the data as a Chart\n",
        "chart = st.bar_chart(df)"
      ],
      "execution_count": 8,
      "outputs": []
    },
    {
      "cell_type": "code",
      "metadata": {
        "id": "eup7dHYMK2Yy"
      },
      "source": [
        "# Split the data into independent 'X' and dependent 'Y' variables\n",
        "X = df.iloc[:, 0:8].values\n",
        "Y = df.iloc[:, -1].values\n",
        "\n",
        "# Split the data set into 75% training and 25% Testing\n",
        "X_train, X_test, Y_train, Y_test = train_test_split(X, Y, test_size=0.25, random_state=0)\n"
      ],
      "execution_count": 9,
      "outputs": []
    },
    {
      "cell_type": "code",
      "metadata": {
        "id": "UBMjh8jbMoTo"
      },
      "source": [
        "#Get the Feature input from the user\n",
        "def get_user_input():\n",
        "  pregnancies = st.sidebar.slider('pregnancies', 0, 17, 3)\n",
        "  glucose = st.sidebar.slider('glucose', 0, 199, 117)\n",
        "  blood_pressure = st.sidebar.slider('blood_pressure', 0, 122, 72)\n",
        "  skin_thickness = st.sidebar.slider('skin_thickness', 0, 99, 23)\n",
        "  insulin = st.sidebar.slider('insulin', 0.0, 846.0, 30.0)\n",
        "  BMI = st.sidebar.slider('BMI', 0.0, 67.1, 32.0)\n",
        "  DPF = st.sidebar.slider('DPF', 0.078, 2.42, 0.3725)\n",
        "  age = st.sidebar.slider('age', 21, 81, 29)\n",
        "\n",
        "    # Store a Dictionary into a variable\n",
        "  user_data = {\n",
        "      'pregnancies':pregnancies,\n",
        "      'glucose':glucose,\n",
        "      'blood_pressure':blood_pressure,\n",
        "      'skin_thickness':skin_thickness,\n",
        "      'insulin':insulin,\n",
        "      'BMI':BMI,\n",
        "      'DPF':DPF,\n",
        "      'age':age\n",
        "  }\n",
        "  # Transform the data into a DataFrame\n",
        "  features = pd.DataFrame(user_data, index = [0])\n",
        "  return features\n"
      ],
      "execution_count": 12,
      "outputs": []
    },
    {
      "cell_type": "code",
      "metadata": {
        "id": "3ol_OeCcPEZw"
      },
      "source": [
        "# Store the user input into a variable\n",
        "user_input = get_user_input()\n",
        "\n",
        "# set a subheader and display the user input\n",
        "st.subheader('User Input:')\n",
        "st.write(user_input)"
      ],
      "execution_count": 13,
      "outputs": []
    },
    {
      "cell_type": "code",
      "metadata": {
        "id": "PC4B3MQKP5RW",
        "outputId": "687ccf55-3dce-41b8-cb08-1f98e9888847",
        "colab": {
          "base_uri": "https://localhost:8080/"
        }
      },
      "source": [
        "# Create and Train the Model\n",
        "randomForestClassifier = RandomForestClassifier()\n",
        "randomForestClassifier.fit(X_train, Y_train)"
      ],
      "execution_count": 14,
      "outputs": [
        {
          "output_type": "execute_result",
          "data": {
            "text/plain": [
              "RandomForestClassifier(bootstrap=True, ccp_alpha=0.0, class_weight=None,\n",
              "                       criterion='gini', max_depth=None, max_features='auto',\n",
              "                       max_leaf_nodes=None, max_samples=None,\n",
              "                       min_impurity_decrease=0.0, min_impurity_split=None,\n",
              "                       min_samples_leaf=1, min_samples_split=2,\n",
              "                       min_weight_fraction_leaf=0.0, n_estimators=100,\n",
              "                       n_jobs=None, oob_score=False, random_state=None,\n",
              "                       verbose=0, warm_start=False)"
            ]
          },
          "metadata": {
            "tags": []
          },
          "execution_count": 14
        }
      ]
    },
    {
      "cell_type": "code",
      "metadata": {
        "id": "H1ZUDBlCSMd9"
      },
      "source": [
        "# Show the Models Metrics\n",
        "st.subheader('Model Test Accuracy Score:')\n",
        "st.write(str(accuracy_score(Y_test, randomForestClassifier.predict(X_test))*100)+'%')"
      ],
      "execution_count": 15,
      "outputs": []
    },
    {
      "cell_type": "code",
      "metadata": {
        "id": "pdj3c3nHSr0_"
      },
      "source": [
        "# Store the Model Prediction in a Variable\n",
        "prediction = randomForestClassifier.predict(user_input)"
      ],
      "execution_count": 16,
      "outputs": []
    },
    {
      "cell_type": "code",
      "metadata": {
        "id": "a82iJbWQTNTP"
      },
      "source": [
        "# Set the Subheader and display the classification\n",
        "st.subheader('Classification: ')\n",
        "st.write(prediction)"
      ],
      "execution_count": 17,
      "outputs": []
    },
    {
      "cell_type": "code",
      "metadata": {
        "id": "MIfpqxHjTc2G"
      },
      "source": [
        ""
      ],
      "execution_count": null,
      "outputs": []
    }
  ]
}
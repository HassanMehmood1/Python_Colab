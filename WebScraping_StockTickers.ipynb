{
  "nbformat": 4,
  "nbformat_minor": 0,
  "metadata": {
    "colab": {
      "name": "WebScraping_StockTickers.ipynb",
      "provenance": [],
      "collapsed_sections": [],
      "authorship_tag": "ABX9TyPKLRjY0xXg2g/0BXPNgKmd",
      "include_colab_link": true
    },
    "kernelspec": {
      "name": "python3",
      "display_name": "Python 3"
    }
  },
  "cells": [
    {
      "cell_type": "markdown",
      "metadata": {
        "id": "view-in-github",
        "colab_type": "text"
      },
      "source": [
        "<a href=\"https://colab.research.google.com/github/HassanMehmood1/Python_Colab/blob/main/WebScraping_StockTickers.ipynb\" target=\"_parent\"><img src=\"https://colab.research.google.com/assets/colab-badge.svg\" alt=\"Open In Colab\"/></a>"
      ]
    },
    {
      "cell_type": "code",
      "metadata": {
        "id": "504Djq3PAB9-"
      },
      "source": [
        "#Description: This Program scrapes stock tickers and their company name from a website "
      ],
      "execution_count": null,
      "outputs": []
    },
    {
      "cell_type": "code",
      "metadata": {
        "id": "OzrkuwlAAX3m"
      },
      "source": [
        "# Import the dependencies\n",
        "import requests\n",
        "import pandas as pd\n",
        "from bs4 import BeautifulSoup"
      ],
      "execution_count": null,
      "outputs": []
    },
    {
      "cell_type": "code",
      "metadata": {
        "id": "PgiqTJYDAjQ2"
      },
      "source": [
        "# Create two empty lists for the company name and the company ticker/symbol\n",
        "company_name = []\n",
        "company_ticker = []"
      ],
      "execution_count": null,
      "outputs": []
    },
    {
      "cell_type": "code",
      "metadata": {
        "id": "spkZYnYEAy89"
      },
      "source": [
        "URL = 'https://www.advfn.com/nyse/newyorkstockexchange.asp?companies=A'\n",
        "page = requests.get(URL)\n",
        "soup = BeautifulSoup(page.text, 'html.parser')\n",
        "odd_rows = soup.find_all('tr', attrs = {'class':'ts0'})\n",
        "even_rows = soup.find_all('tr', attrs = {'class':'ts1'})"
      ],
      "execution_count": null,
      "outputs": []
    },
    {
      "cell_type": "code",
      "metadata": {
        "id": "5NUC9QWjLj3-"
      },
      "source": [
        "for i in odd_rows:\n",
        "  row = i.find_all('td')\n",
        "  company_name.append(row[0].text.strip()) # Company Name\n",
        "  company_ticker.append(row[1].text.strip()) # Ticker\n",
        "\n",
        "  for i in even_rows:\n",
        "    row = i.find_all('td')\n",
        "    company_name.append(row[0].text.strip()) # Company Name\n",
        "    company_ticker.append(row[1].text.strip()) # Ticker\n"
      ],
      "execution_count": null,
      "outputs": []
    },
    {
      "cell_type": "code",
      "metadata": {
        "id": "ocOXLjr-Ntqn"
      },
      "source": [
        "def scrape_stock_symbols(Letter):\n",
        "  Letter = Letter.upper()\n",
        "  URL = 'https://www.advfn.com/nyse/newyorkstockexchange.asp?companies='+Letter\n",
        "  page = requests.get(URL)\n",
        "  soup = BeautifulSoup(page.text, 'html.parser')\n",
        "  odd_rows = soup.find_all('tr', attrs = {'class':'ts0'})\n",
        "  even_rows = soup.find_all('tr', attrs = {'class':'ts1'})\n",
        "  for i in odd_rows:\n",
        "    row = i.find_all('td')\n",
        "    company_name.append(row[0].text.strip()) # Company Name\n",
        "    company_ticker.append(row[1].text.strip()) # Ticker\n",
        "\n",
        "  for i in even_rows:\n",
        "    row = i.find_all('td')\n",
        "    company_name.append(row[0].text.strip()) # Company Name\n",
        "    company_ticker.append(row[1].text.strip()) # Ticker\n",
        "    \n",
        "  return (company_name, company_ticker)\n",
        "  "
      ],
      "execution_count": null,
      "outputs": []
    },
    {
      "cell_type": "code",
      "metadata": {
        "id": "Mqe6QZiWSpGS"
      },
      "source": [
        "(temp_name, temp_ticker) = scrape_stock_symbols('b')\n",
        "temp_name"
      ],
      "execution_count": null,
      "outputs": []
    },
    {
      "cell_type": "code",
      "metadata": {
        "id": "e3ZSubAsS6lh",
        "colab": {
          "base_uri": "https://localhost:8080/",
          "height": 35
        },
        "outputId": "20504f7e-7908-4441-bed0-0fcadb0f9edc"
      },
      "source": [
        "# Get a list of every letter in the alphabet\n",
        "import string \n",
        "string.ascii_uppercase"
      ],
      "execution_count": null,
      "outputs": [
        {
          "output_type": "execute_result",
          "data": {
            "application/vnd.google.colaboratory.intrinsic+json": {
              "type": "string"
            },
            "text/plain": [
              "'ABCDEFGHIJKLMNOPQRSTUVWXYZ'"
            ]
          },
          "metadata": {
            "tags": []
          },
          "execution_count": 29
        }
      ]
    },
    {
      "cell_type": "code",
      "metadata": {
        "id": "8pBz9RB5T8TW"
      },
      "source": [
        "# Loop through every letter in the alphabet to get all of the tickers and company names from the website\n",
        "for char in string.ascii_uppercase:\n",
        "  (temp_name, temp_ticker) = scrape_stock_symbols(char)\n",
        "  "
      ],
      "execution_count": null,
      "outputs": []
    },
    {
      "cell_type": "code",
      "metadata": {
        "id": "NQmOuIXoUlux",
        "colab": {
          "base_uri": "https://localhost:8080/"
        },
        "outputId": "488ab276-2038-4677-e4c3-64d808818185"
      },
      "source": [
        "len(temp_name)"
      ],
      "execution_count": null,
      "outputs": [
        {
          "output_type": "execute_result",
          "data": {
            "text/plain": [
              "2460"
            ]
          },
          "metadata": {
            "tags": []
          },
          "execution_count": 33
        }
      ]
    },
    {
      "cell_type": "code",
      "metadata": {
        "id": "71L-IkcMUmt-",
        "colab": {
          "base_uri": "https://localhost:8080/"
        },
        "outputId": "3fe104a6-42dd-48a7-bee5-0c5761033586"
      },
      "source": [
        "len(temp_ticker)"
      ],
      "execution_count": null,
      "outputs": [
        {
          "output_type": "execute_result",
          "data": {
            "text/plain": [
              "2460"
            ]
          },
          "metadata": {
            "tags": []
          },
          "execution_count": 34
        }
      ]
    },
    {
      "cell_type": "code",
      "metadata": {
        "id": "k_ifaZ8QUmxu"
      },
      "source": [
        "# Create a dataframe that contains the company name and company ticker\n",
        "data = pd.DataFrame(columns=['company_name', 'company_ticker'])\n",
        "data['company_name'] = temp_name\n",
        "data['company_ticker'] = temp_ticker\n",
        "# Show Data\n",
        "data"
      ],
      "execution_count": null,
      "outputs": []
    },
    {
      "cell_type": "code",
      "metadata": {
        "id": "a5cEk-M8Vtkj",
        "colab": {
          "base_uri": "https://localhost:8080/",
          "height": 419
        },
        "outputId": "23356828-e897-4f7c-ad4b-8679ce9f0ab8"
      },
      "source": [
        "# Clean the Data\n",
        "data = data[data['company_name'] != '']\n",
        "# Show Data\n",
        "data"
      ],
      "execution_count": null,
      "outputs": [
        {
          "output_type": "execute_result",
          "data": {
            "text/html": [
              "<div>\n",
              "<style scoped>\n",
              "    .dataframe tbody tr th:only-of-type {\n",
              "        vertical-align: middle;\n",
              "    }\n",
              "\n",
              "    .dataframe tbody tr th {\n",
              "        vertical-align: top;\n",
              "    }\n",
              "\n",
              "    .dataframe thead th {\n",
              "        text-align: right;\n",
              "    }\n",
              "</style>\n",
              "<table border=\"1\" class=\"dataframe\">\n",
              "  <thead>\n",
              "    <tr style=\"text-align: right;\">\n",
              "      <th></th>\n",
              "      <th>company_name</th>\n",
              "      <th>company_ticker</th>\n",
              "    </tr>\n",
              "  </thead>\n",
              "  <tbody>\n",
              "    <tr>\n",
              "      <th>0</th>\n",
              "      <td>A K Steel</td>\n",
              "      <td>AKS</td>\n",
              "    </tr>\n",
              "    <tr>\n",
              "      <th>1</th>\n",
              "      <td>A M R Cp 7.875</td>\n",
              "      <td>AAR</td>\n",
              "    </tr>\n",
              "    <tr>\n",
              "      <th>2</th>\n",
              "      <td>A a R</td>\n",
              "      <td>AIR</td>\n",
              "    </tr>\n",
              "    <tr>\n",
              "      <th>3</th>\n",
              "      <td>Aaron Rents</td>\n",
              "      <td>RNT.A</td>\n",
              "    </tr>\n",
              "    <tr>\n",
              "      <th>4</th>\n",
              "      <td>Aarons Cl A</td>\n",
              "      <td>AAN.A</td>\n",
              "    </tr>\n",
              "    <tr>\n",
              "      <th>...</th>\n",
              "      <td>...</td>\n",
              "      <td>...</td>\n",
              "    </tr>\n",
              "    <tr>\n",
              "      <th>2453</th>\n",
              "      <td>Yamana Gold Inc.</td>\n",
              "      <td>AUY</td>\n",
              "    </tr>\n",
              "    <tr>\n",
              "      <th>2455</th>\n",
              "      <td>Zale</td>\n",
              "      <td>ZLC</td>\n",
              "    </tr>\n",
              "    <tr>\n",
              "      <th>2456</th>\n",
              "      <td>Zenith</td>\n",
              "      <td>ZNT</td>\n",
              "    </tr>\n",
              "    <tr>\n",
              "      <th>2458</th>\n",
              "      <td>Zapata</td>\n",
              "      <td>ZAP</td>\n",
              "    </tr>\n",
              "    <tr>\n",
              "      <th>2459</th>\n",
              "      <td>Zep</td>\n",
              "      <td>ZEP</td>\n",
              "    </tr>\n",
              "  </tbody>\n",
              "</table>\n",
              "<p>2168 rows × 2 columns</p>\n",
              "</div>"
            ],
            "text/plain": [
              "          company_name company_ticker\n",
              "0            A K Steel            AKS\n",
              "1       A M R Cp 7.875            AAR\n",
              "2                A a R            AIR\n",
              "3          Aaron Rents          RNT.A\n",
              "4          Aarons Cl A          AAN.A\n",
              "...                ...            ...\n",
              "2453  Yamana Gold Inc.            AUY\n",
              "2455              Zale            ZLC\n",
              "2456            Zenith            ZNT\n",
              "2458            Zapata            ZAP\n",
              "2459               Zep            ZEP\n",
              "\n",
              "[2168 rows x 2 columns]"
            ]
          },
          "metadata": {
            "tags": []
          },
          "execution_count": 37
        }
      ]
    },
    {
      "cell_type": "code",
      "metadata": {
        "id": "_iwW0-8FXYvz"
      },
      "source": [
        ""
      ],
      "execution_count": null,
      "outputs": []
    }
  ]
}
{
 "cells": [
  {
   "cell_type": "code",
   "execution_count": 27,
   "metadata": {},
   "outputs": [
    {
     "name": "stdout",
     "output_type": "stream",
     "text": [
      "https://www.google.com/imghp?hl=en\n"
     ]
    }
   ],
   "source": [
    "import mechanicalsoup\n",
    "browser = mechanicalsoup.StatefulBrowser()\n",
    "url = \"https://www.google.com/imghp?hl=en\"\n",
    "\n",
    "browser.open(url)\n",
    "print(browser.get_url())"
   ]
  },
  {
   "cell_type": "code",
   "execution_count": 28,
   "metadata": {},
   "outputs": [
    {
     "name": "stdout",
     "output_type": "stream",
     "text": [
      "<input name=\"tbm\" type=\"hidden\" value=\"isch\"/>\n",
      "<input name=\"ie\" type=\"hidden\" value=\"ISO-8859-1\"/>\n",
      "<input name=\"hl\" type=\"hidden\" value=\"en-PK\"/>\n",
      "<input name=\"source\" type=\"hidden\" value=\"hp\"/>\n",
      "<input name=\"biw\" type=\"hidden\"/>\n",
      "<input name=\"bih\" type=\"hidden\"/>\n",
      "<input autocomplete=\"off\" class=\"lst\" maxlength=\"2048\" name=\"q\" size=\"57\" style=\"margin:0;padding:5px 8px 0 6px;vertical-align:top;color:#000\" title=\"Search Images\" value=\"\"/>\n",
      "<input class=\"lsb\" name=\"btnG\" type=\"submit\" value=\"Search Images\"/>\n",
      "<input id=\"gbv\" name=\"gbv\" type=\"hidden\" value=\"1\"/>\n"
     ]
    }
   ],
   "source": [
    "# get HTML\n",
    "browser.get_current_page()\n",
    "\n",
    "# target the search input\n",
    "browser.select_form()\n",
    "browser.get_current_form().print_summary()\n"
   ]
  },
  {
   "cell_type": "code",
   "execution_count": 29,
   "metadata": {},
   "outputs": [],
   "source": [
    "# Search for a term\n",
    "search_term = 'dog'\n",
    "browser['q'] = search_term"
   ]
  },
  {
   "cell_type": "code",
   "execution_count": 30,
   "metadata": {},
   "outputs": [
    {
     "name": "stdout",
     "output_type": "stream",
     "text": [
      "new URL:  https://www.google.com/search?tbm=isch&ie=ISO-8859-1&hl=en-PK&source=hp&biw=&bih=&q=dog&btnG=Search+Images&gbv=1\n",
      "My Response: \n",
      " <!DOCTYPE html PUBLIC \"-//WAPFORUM//DTD XHTML Mobile 1.0//EN\" \"http://www.wapforum.org/DTD/xhtml-mobile10.dtd\"><html xmlns=\"http://www.w3.org/1999/xhtml\" lang=\"en-PK\"><head><meta content=\"application/xhtml+xml; charset=UTF-8\" http-equiv=\"Content-Type\"/><meta content=\"no-cache\" name=\"Cache-Control\"/><title>dog - Google Search</title><style>a{text-decoration:none;color:inherit}a:hover{text-decoration:underline}a img{border:0}body{font-family:Roboto,Helvetica,Arial,sans-serif;padding:8px;margin:0 a\n"
     ]
    }
   ],
   "source": [
    "# Submit / Click Search\n",
    "browser.launch_browser()\n",
    "response = browser.submit_selected()\n",
    "print('new URL: ', browser.get_url())\n",
    "print('My Response: \\n', response.text[:500])"
   ]
  },
  {
   "cell_type": "markdown",
   "metadata": {},
   "source": [
    "### Navigate to the new page and target all the images"
   ]
  },
  {
   "cell_type": "code",
   "execution_count": 31,
   "metadata": {},
   "outputs": [
    {
     "name": "stdout",
     "output_type": "stream",
     "text": [
      "[<img alt=\"Google\" class=\"kgJEQe\" src=\"/images/branding/searchlogo/1x/googlelogo_desk_heirloom_color_150x55dp.gif\"/>, <img alt=\"\" class=\"t0fcAb\" src=\"https://encrypted-tbn0.gstatic.com/images?q=tbn:ANd9GcSf1JeNvMKeK53G9H4LvaM3x2-kiOcEN8LEPJrbqcwkUlqc36h-BAnXQy-oUrw&amp;s\"/>, <img alt=\"\" class=\"t0fcAb\" src=\"https://encrypted-tbn0.gstatic.com/images?q=tbn:ANd9GcSCt4GZvEBis4_VIQMzBfB5lVTwiiLaVJJkw2iEKWU_Y6E9n8RDJuhTnHaWKuQ&amp;s\"/>, <img alt=\"\" class=\"t0fcAb\" src=\"https://encrypted-tbn0.gstatic.com/images?q=tbn:ANd9GcSv2E8gj6jK9J_1JW5kM03r2kjCldoSVKF7_Qk4a5mV9ct_xu_yM8cPn8VtL10&amp;s\"/>, <img alt=\"\" class=\"t0fcAb\" src=\"https://encrypted-tbn0.gstatic.com/images?q=tbn:ANd9GcSVEewsSVWD7gNzYNfyetd_uJeALgXWoGxZ72sKhsIstRu1-OIEDfetRE1UYJs&amp;s\"/>, <img alt=\"\" class=\"t0fcAb\" src=\"https://encrypted-tbn0.gstatic.com/images?q=tbn:ANd9GcTagma-A-PkMPXrzZbn5akRb2lTiiBJSRRHDkDEgtKrddZbNAxXwpTGwXLvwD8&amp;s\"/>, <img alt=\"\" class=\"t0fcAb\" src=\"https://encrypted-tbn0.gstatic.com/images?q=tbn:ANd9GcRf2DWFpixXOm2sz1j2Tcl18r6xwzTPO8uTypy-LGoQXHs7QUxcYYMKtio0hg&amp;s\"/>, <img alt=\"\" class=\"t0fcAb\" src=\"https://encrypted-tbn0.gstatic.com/images?q=tbn:ANd9GcQ_B_q7D21hllOHWlaV6UjUT2JpkD1nVNd4aTbZ-mUS3_ogPirDZrl9_U0CDA&amp;s\"/>, <img alt=\"\" class=\"t0fcAb\" src=\"https://encrypted-tbn0.gstatic.com/images?q=tbn:ANd9GcQE6yLbNk8gBOXFboiwqYdn0CVBmxxYA6VK8LYc2MTBc2K5JL3Gfs1oMw6tGyA&amp;s\"/>, <img alt=\"\" class=\"t0fcAb\" src=\"https://encrypted-tbn0.gstatic.com/images?q=tbn:ANd9GcTXZ3FcVlaTE1RaeB0sQMJA2jej1oqlqGqOp4XkGnB7qumJzFnQizGmR64zyQ&amp;s\"/>, <img alt=\"\" class=\"t0fcAb\" src=\"https://encrypted-tbn0.gstatic.com/images?q=tbn:ANd9GcS48n8YsODpDLAfrnxKMVdtu5ti5Dsbj0QnhgDNlRw8yOhSllPertISpuANOQ&amp;s\"/>, <img alt=\"\" class=\"t0fcAb\" src=\"https://encrypted-tbn0.gstatic.com/images?q=tbn:ANd9GcRigOXtClZQyNzeRgsF03wSDO2BHif8f50bvZNUcMOrDmFMRYpufY0MPNkdjws&amp;s\"/>, <img alt=\"\" class=\"t0fcAb\" src=\"https://encrypted-tbn0.gstatic.com/images?q=tbn:ANd9GcTXdpXcq3nbRjVTQha1UOxb5ckHzWmpPh9cWFIqMIGzEjtO2NB_dfq9rZ-UsQ&amp;s\"/>, <img alt=\"\" class=\"t0fcAb\" src=\"https://encrypted-tbn0.gstatic.com/images?q=tbn:ANd9GcSPb0n2CBToQ-hK9855xO1hAcIariO0Ivm45Wkh0z48nyScTpC6R4rPhLlXdZQ&amp;s\"/>, <img alt=\"\" class=\"t0fcAb\" src=\"https://encrypted-tbn0.gstatic.com/images?q=tbn:ANd9GcTWKZPYXxZ7SpAGNQ1Tpp4YDd-2U2PWgU8RxfSbkwmSKfXWHeFXr9D70YlSQg&amp;s\"/>, <img alt=\"\" class=\"t0fcAb\" src=\"https://encrypted-tbn0.gstatic.com/images?q=tbn:ANd9GcRBe6GVPE6Zdu1qXLljTXy8959g-FCzDDzXo1vFDjdOqZ-cRxLlBZA-1jpCtw&amp;s\"/>, <img alt=\"\" class=\"t0fcAb\" src=\"https://encrypted-tbn0.gstatic.com/images?q=tbn:ANd9GcQn6J3jcMAO2spqjNiYdsQ2IwuPbND8O4BiwdjEb85yKzqGeEAnH9SFh0eRU_M&amp;s\"/>, <img alt=\"\" class=\"t0fcAb\" src=\"https://encrypted-tbn0.gstatic.com/images?q=tbn:ANd9GcTTu3qHXWYVtWXjItyGg84J3wYKytn0kZD4JQxo7U01WtJQ8Dxx_K9IhK2v6A&amp;s\"/>, <img alt=\"\" class=\"t0fcAb\" src=\"https://encrypted-tbn0.gstatic.com/images?q=tbn:ANd9GcQnnCnIYFyL41XgMs_dTmh0HOaPhZwvS3PXQGm8eQzmcVDIc6p-n9vRp7sTmA4&amp;s\"/>, <img alt=\"\" class=\"t0fcAb\" src=\"https://encrypted-tbn0.gstatic.com/images?q=tbn:ANd9GcQEv0v__mSfjvAhEqXXs9BJ9gbsrrs0Jgzx_MCys66UumPUw1tvPHZVUHJMzt8&amp;s\"/>, <img alt=\"\" class=\"t0fcAb\" src=\"https://encrypted-tbn0.gstatic.com/images?q=tbn:ANd9GcQVVwYFsNt0QIxwUoGefIL5tdnTxBEOtRBOHWFalF0dC8eAnqMBywhbKS1hp7Q&amp;s\"/>]\n"
     ]
    }
   ],
   "source": [
    "# open new URL:\n",
    "new_url = browser.get_url()\n",
    "browser.open(new_url)\n",
    "\n",
    "# get HTML\n",
    "page = browser.get_current_page()\n",
    "all_images = page.find_all('img')\n",
    "print(all_images)"
   ]
  },
  {
   "cell_type": "code",
   "execution_count": 32,
   "metadata": {},
   "outputs": [
    {
     "data": {
      "text/plain": [
       "['https://encrypted-tbn0.gstatic.com/images?q=tbn:ANd9GcTagma-A-PkMPXrzZbn5akRb2lTiiBJSRRHDkDEgtKrddZbNAxXwpTGwXLvwD8&s',\n",
       " 'https://encrypted-tbn0.gstatic.com/images?q=tbn:ANd9GcRf2DWFpixXOm2sz1j2Tcl18r6xwzTPO8uTypy-LGoQXHs7QUxcYYMKtio0hg&s',\n",
       " 'https://encrypted-tbn0.gstatic.com/images?q=tbn:ANd9GcQ_B_q7D21hllOHWlaV6UjUT2JpkD1nVNd4aTbZ-mUS3_ogPirDZrl9_U0CDA&s',\n",
       " 'https://encrypted-tbn0.gstatic.com/images?q=tbn:ANd9GcQE6yLbNk8gBOXFboiwqYdn0CVBmxxYA6VK8LYc2MTBc2K5JL3Gfs1oMw6tGyA&s',\n",
       " 'https://encrypted-tbn0.gstatic.com/images?q=tbn:ANd9GcTXZ3FcVlaTE1RaeB0sQMJA2jej1oqlqGqOp4XkGnB7qumJzFnQizGmR64zyQ&s',\n",
       " 'https://encrypted-tbn0.gstatic.com/images?q=tbn:ANd9GcS48n8YsODpDLAfrnxKMVdtu5ti5Dsbj0QnhgDNlRw8yOhSllPertISpuANOQ&s',\n",
       " 'https://encrypted-tbn0.gstatic.com/images?q=tbn:ANd9GcRigOXtClZQyNzeRgsF03wSDO2BHif8f50bvZNUcMOrDmFMRYpufY0MPNkdjws&s',\n",
       " 'https://encrypted-tbn0.gstatic.com/images?q=tbn:ANd9GcTXdpXcq3nbRjVTQha1UOxb5ckHzWmpPh9cWFIqMIGzEjtO2NB_dfq9rZ-UsQ&s',\n",
       " 'https://encrypted-tbn0.gstatic.com/images?q=tbn:ANd9GcSPb0n2CBToQ-hK9855xO1hAcIariO0Ivm45Wkh0z48nyScTpC6R4rPhLlXdZQ&s',\n",
       " 'https://encrypted-tbn0.gstatic.com/images?q=tbn:ANd9GcTWKZPYXxZ7SpAGNQ1Tpp4YDd-2U2PWgU8RxfSbkwmSKfXWHeFXr9D70YlSQg&s',\n",
       " 'https://encrypted-tbn0.gstatic.com/images?q=tbn:ANd9GcRBe6GVPE6Zdu1qXLljTXy8959g-FCzDDzXo1vFDjdOqZ-cRxLlBZA-1jpCtw&s',\n",
       " 'https://encrypted-tbn0.gstatic.com/images?q=tbn:ANd9GcQn6J3jcMAO2spqjNiYdsQ2IwuPbND8O4BiwdjEb85yKzqGeEAnH9SFh0eRU_M&s',\n",
       " 'https://encrypted-tbn0.gstatic.com/images?q=tbn:ANd9GcTTu3qHXWYVtWXjItyGg84J3wYKytn0kZD4JQxo7U01WtJQ8Dxx_K9IhK2v6A&s',\n",
       " 'https://encrypted-tbn0.gstatic.com/images?q=tbn:ANd9GcQnnCnIYFyL41XgMs_dTmh0HOaPhZwvS3PXQGm8eQzmcVDIc6p-n9vRp7sTmA4&s',\n",
       " 'https://encrypted-tbn0.gstatic.com/images?q=tbn:ANd9GcQEv0v__mSfjvAhEqXXs9BJ9gbsrrs0Jgzx_MCys66UumPUw1tvPHZVUHJMzt8&s',\n",
       " 'https://encrypted-tbn0.gstatic.com/images?q=tbn:ANd9GcQVVwYFsNt0QIxwUoGefIL5tdnTxBEOtRBOHWFalF0dC8eAnqMBywhbKS1hp7Q&s']"
      ]
     },
     "execution_count": 32,
     "metadata": {},
     "output_type": "execute_result"
    }
   ],
   "source": [
    "# target the source attribute\n",
    "image_source = []\n",
    "for image in all_images:\n",
    "    image = image.get('src')\n",
    "    image_source.append(image)\n",
    "image_source[5:]"
   ]
  },
  {
   "cell_type": "markdown",
   "metadata": {},
   "source": [
    "### Fix Broken / Incomplete Image Links"
   ]
  },
  {
   "cell_type": "code",
   "execution_count": 33,
   "metadata": {},
   "outputs": [
    {
     "data": {
      "text/plain": [
       "['https://encrypted-tbn0.gstatic.com/images?q=tbn:ANd9GcRf2DWFpixXOm2sz1j2Tcl18r6xwzTPO8uTypy-LGoQXHs7QUxcYYMKtio0hg&s',\n",
       " 'https://encrypted-tbn0.gstatic.com/images?q=tbn:ANd9GcQ_B_q7D21hllOHWlaV6UjUT2JpkD1nVNd4aTbZ-mUS3_ogPirDZrl9_U0CDA&s',\n",
       " 'https://encrypted-tbn0.gstatic.com/images?q=tbn:ANd9GcQE6yLbNk8gBOXFboiwqYdn0CVBmxxYA6VK8LYc2MTBc2K5JL3Gfs1oMw6tGyA&s',\n",
       " 'https://encrypted-tbn0.gstatic.com/images?q=tbn:ANd9GcTXZ3FcVlaTE1RaeB0sQMJA2jej1oqlqGqOp4XkGnB7qumJzFnQizGmR64zyQ&s',\n",
       " 'https://encrypted-tbn0.gstatic.com/images?q=tbn:ANd9GcS48n8YsODpDLAfrnxKMVdtu5ti5Dsbj0QnhgDNlRw8yOhSllPertISpuANOQ&s',\n",
       " 'https://encrypted-tbn0.gstatic.com/images?q=tbn:ANd9GcRigOXtClZQyNzeRgsF03wSDO2BHif8f50bvZNUcMOrDmFMRYpufY0MPNkdjws&s',\n",
       " 'https://encrypted-tbn0.gstatic.com/images?q=tbn:ANd9GcTXdpXcq3nbRjVTQha1UOxb5ckHzWmpPh9cWFIqMIGzEjtO2NB_dfq9rZ-UsQ&s',\n",
       " 'https://encrypted-tbn0.gstatic.com/images?q=tbn:ANd9GcSPb0n2CBToQ-hK9855xO1hAcIariO0Ivm45Wkh0z48nyScTpC6R4rPhLlXdZQ&s',\n",
       " 'https://encrypted-tbn0.gstatic.com/images?q=tbn:ANd9GcTWKZPYXxZ7SpAGNQ1Tpp4YDd-2U2PWgU8RxfSbkwmSKfXWHeFXr9D70YlSQg&s',\n",
       " 'https://encrypted-tbn0.gstatic.com/images?q=tbn:ANd9GcRBe6GVPE6Zdu1qXLljTXy8959g-FCzDDzXo1vFDjdOqZ-cRxLlBZA-1jpCtw&s',\n",
       " 'https://encrypted-tbn0.gstatic.com/images?q=tbn:ANd9GcQn6J3jcMAO2spqjNiYdsQ2IwuPbND8O4BiwdjEb85yKzqGeEAnH9SFh0eRU_M&s',\n",
       " 'https://encrypted-tbn0.gstatic.com/images?q=tbn:ANd9GcTTu3qHXWYVtWXjItyGg84J3wYKytn0kZD4JQxo7U01WtJQ8Dxx_K9IhK2v6A&s',\n",
       " 'https://encrypted-tbn0.gstatic.com/images?q=tbn:ANd9GcQnnCnIYFyL41XgMs_dTmh0HOaPhZwvS3PXQGm8eQzmcVDIc6p-n9vRp7sTmA4&s',\n",
       " 'https://encrypted-tbn0.gstatic.com/images?q=tbn:ANd9GcQEv0v__mSfjvAhEqXXs9BJ9gbsrrs0Jgzx_MCys66UumPUw1tvPHZVUHJMzt8&s',\n",
       " 'https://encrypted-tbn0.gstatic.com/images?q=tbn:ANd9GcQVVwYFsNt0QIxwUoGefIL5tdnTxBEOtRBOHWFalF0dC8eAnqMBywhbKS1hp7Q&s']"
      ]
     },
     "execution_count": 33,
     "metadata": {},
     "output_type": "execute_result"
    }
   ],
   "source": [
    "image_source = [image for image in image_source if image.startswith('https')]\n",
    "image_source[5:]"
   ]
  },
  {
   "cell_type": "markdown",
   "metadata": {},
   "source": [
    "### Create new local directory on our computer"
   ]
  },
  {
   "cell_type": "code",
   "execution_count": 34,
   "metadata": {},
   "outputs": [],
   "source": [
    "import os\n",
    "import wget\n",
    "path = os.getcwd()\n",
    "path = os.path.join(path, search_term+ \"s\")\n",
    "\n",
    "# create the directory\n",
    "os.mkdir(path)\n"
   ]
  },
  {
   "cell_type": "markdown",
   "metadata": {},
   "source": [
    "### Download and Save all Images"
   ]
  },
  {
   "cell_type": "code",
   "execution_count": 35,
   "metadata": {},
   "outputs": [
    {
     "name": "stdout",
     "output_type": "stream",
     "text": [
      "100% [................................................................................] 4587 / 4587"
     ]
    }
   ],
   "source": [
    "# download images \n",
    "counter = 0\n",
    "for image in image_source:\n",
    "    save_as = os.path.join(path, search_term + str(counter) + '.jpg')\n",
    "    wget.download(image, save_as)\n",
    "    counter += 1"
   ]
  },
  {
   "cell_type": "code",
   "execution_count": null,
   "metadata": {},
   "outputs": [],
   "source": []
  }
 ],
 "metadata": {
  "kernelspec": {
   "display_name": "Python 3",
   "language": "python",
   "name": "python3"
  },
  "language_info": {
   "codemirror_mode": {
    "name": "ipython",
    "version": 3
   },
   "file_extension": ".py",
   "mimetype": "text/x-python",
   "name": "python",
   "nbconvert_exporter": "python",
   "pygments_lexer": "ipython3",
   "version": "3.6.12"
  }
 },
 "nbformat": 4,
 "nbformat_minor": 4
}
